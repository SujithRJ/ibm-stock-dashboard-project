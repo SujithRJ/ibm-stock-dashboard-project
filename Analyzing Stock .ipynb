{
 "cells": [
  {
   "cell_type": "code",
   "execution_count": 6,
   "id": "b977b0bb-2db7-4221-b80e-1277ea70abe3",
   "metadata": {},
   "outputs": [
    {
     "name": "stdout",
     "output_type": "stream",
     "text": [
      "Requirement already satisfied: pandas in c:\\users\\sujit\\anaconda3\\lib\\site-packages (2.2.2)\n",
      "Requirement already satisfied: yfinance in c:\\users\\sujit\\anaconda3\\lib\\site-packages (0.2.58)\n",
      "Requirement already satisfied: plotly in c:\\users\\sujit\\anaconda3\\lib\\site-packages (5.24.1)\n",
      "Requirement already satisfied: numpy>=1.26.0 in c:\\users\\sujit\\anaconda3\\lib\\site-packages (from pandas) (1.26.4)\n",
      "Requirement already satisfied: python-dateutil>=2.8.2 in c:\\users\\sujit\\anaconda3\\lib\\site-packages (from pandas) (2.9.0.post0)\n",
      "Requirement already satisfied: pytz>=2020.1 in c:\\users\\sujit\\anaconda3\\lib\\site-packages (from pandas) (2024.1)\n",
      "Requirement already satisfied: tzdata>=2022.7 in c:\\users\\sujit\\anaconda3\\lib\\site-packages (from pandas) (2023.3)\n",
      "Requirement already satisfied: requests>=2.31 in c:\\users\\sujit\\anaconda3\\lib\\site-packages (from yfinance) (2.32.3)\n",
      "Requirement already satisfied: multitasking>=0.0.7 in c:\\users\\sujit\\anaconda3\\lib\\site-packages (from yfinance) (0.0.11)\n",
      "Requirement already satisfied: platformdirs>=2.0.0 in c:\\users\\sujit\\anaconda3\\lib\\site-packages (from yfinance) (3.10.0)\n",
      "Requirement already satisfied: frozendict>=2.3.4 in c:\\users\\sujit\\anaconda3\\lib\\site-packages (from yfinance) (2.4.2)\n",
      "Requirement already satisfied: peewee>=3.16.2 in c:\\users\\sujit\\anaconda3\\lib\\site-packages (from yfinance) (3.18.1)\n",
      "Requirement already satisfied: beautifulsoup4>=4.11.1 in c:\\users\\sujit\\anaconda3\\lib\\site-packages (from yfinance) (4.12.3)\n",
      "Requirement already satisfied: curl_cffi>=0.7 in c:\\users\\sujit\\anaconda3\\lib\\site-packages (from yfinance) (0.10.0)\n",
      "Requirement already satisfied: tenacity>=6.2.0 in c:\\users\\sujit\\anaconda3\\lib\\site-packages (from plotly) (8.2.3)\n",
      "Requirement already satisfied: packaging in c:\\users\\sujit\\anaconda3\\lib\\site-packages (from plotly) (24.1)\n",
      "Requirement already satisfied: soupsieve>1.2 in c:\\users\\sujit\\anaconda3\\lib\\site-packages (from beautifulsoup4>=4.11.1->yfinance) (2.5)\n",
      "Requirement already satisfied: cffi>=1.12.0 in c:\\users\\sujit\\anaconda3\\lib\\site-packages (from curl_cffi>=0.7->yfinance) (1.17.1)\n",
      "Requirement already satisfied: certifi>=2024.2.2 in c:\\users\\sujit\\anaconda3\\lib\\site-packages (from curl_cffi>=0.7->yfinance) (2024.8.30)\n",
      "Requirement already satisfied: six>=1.5 in c:\\users\\sujit\\anaconda3\\lib\\site-packages (from python-dateutil>=2.8.2->pandas) (1.16.0)\n",
      "Requirement already satisfied: charset-normalizer<4,>=2 in c:\\users\\sujit\\anaconda3\\lib\\site-packages (from requests>=2.31->yfinance) (3.3.2)\n",
      "Requirement already satisfied: idna<4,>=2.5 in c:\\users\\sujit\\anaconda3\\lib\\site-packages (from requests>=2.31->yfinance) (3.7)\n",
      "Requirement already satisfied: urllib3<3,>=1.21.1 in c:\\users\\sujit\\anaconda3\\lib\\site-packages (from requests>=2.31->yfinance) (2.2.3)\n",
      "Requirement already satisfied: pycparser in c:\\users\\sujit\\anaconda3\\lib\\site-packages (from cffi>=1.12.0->curl_cffi>=0.7->yfinance) (2.21)\n"
     ]
    }
   ],
   "source": [
    "!pip install pandas yfinance plotly\n"
   ]
  },
  {
   "cell_type": "code",
   "execution_count": 8,
   "id": "8090fb09-4188-4256-8478-75c51782b676",
   "metadata": {},
   "outputs": [],
   "source": [
    "import pandas as pd\n",
    "import yfinance as yf\n",
    "import plotly.graph_objs as go\n"
   ]
  },
  {
   "cell_type": "code",
   "execution_count": 11,
   "id": "89e9860d-ab55-4e83-8656-5c17993d15b5",
   "metadata": {},
   "outputs": [
    {
     "name": "stderr",
     "output_type": "stream",
     "text": [
      "[*********************100%***********************]  1 of 1 completed\n",
      "[*********************100%***********************]  1 of 1 completed\n"
     ]
    }
   ],
   "source": [
    "# Tesla (TSLA)\n",
    "tesla_data = yf.download('TSLA', start='2010-01-01', end='2023-12-31')\n",
    "tesla_data.reset_index(inplace=True)\n",
    "\n",
    "# GameStop (GME)\n",
    "gme_data = yf.download('GME', start='2010-01-01', end='2023-12-31')\n",
    "gme_data.reset_index(inplace=True)\n"
   ]
  },
  {
   "cell_type": "code",
   "execution_count": null,
   "id": "a86372da-f700-4a66-86c0-290bd9a35cb3",
   "metadata": {},
   "outputs": [],
   "source": [
    "from tkinter import Tk\n",
    "from tkinter.filedialog import askopenfilename\n",
    "\n",
    "Tk().withdraw()  # Hides the root window\n",
    "file_path = askopenfilename(title=\"Game stock Revenue.docx\")  # Choose your file\n",
    "print(\"Game stock Revenue.docx:\", file_path)\n"
   ]
  },
  {
   "cell_type": "code",
   "execution_count": null,
   "id": "ecb189d2-2029-413e-99b6-e817be074e81",
   "metadata": {},
   "outputs": [],
   "source": [
    "from tkinter import Tk\n",
    "from tkinter.filedialog import askopenfilename\n",
    "\n",
    "Tk().withdraw()  # Hides the root window\n",
    "file_path = askopenfilename(title=\"Tesla Revenue.docx\")  # Choose your file\n",
    "print(\"Tesla Revenue.docx:\", file_path)\n"
   ]
  },
  {
   "cell_type": "code",
   "execution_count": null,
   "id": "88902005-7a86-4d74-8277-2ac1c4f37663",
   "metadata": {},
   "outputs": [],
   "source": [
    "# Remove $ and commas\n",
    "tesla_revenue[\"Revenue\"] = tesla_revenue[\"Revenue\"].str.replace(\"$\", \"\").str.replace(\",\", \"\")\n",
    "tesla_revenue.dropna(inplace=True)\n",
    "tesla_revenue[\"Revenue\"] = pd.to_numeric(tesla_revenue[\"Revenue\"])\n",
    "\n",
    "gme_revenue[\"Revenue\"] = gme_revenue[\"Revenue\"].str.replace(\"$\", \"\").str.replace(\",\", \"\")\n",
    "gme_revenue.dropna(inplace=True)\n",
    "gme_revenue[\"Revenue\"] = pd.to_numeric(gme_revenue[\"Revenue\"])\n"
   ]
  },
  {
   "cell_type": "code",
   "execution_count": null,
   "id": "b8de972e-806f-48b3-a81e-46d7d17c51da",
   "metadata": {},
   "outputs": [],
   "source": [
    "def make_graph(stock_data, revenue_data, stock, company):\n",
    "    fig = go.Figure()\n",
    "    fig.add_trace(go.Scatter(x=stock_data['Date'], y=stock_data['Close'], name=\"Stock Price\"))\n",
    "    fig.update_layout(title=f\"{company} Stock Price\", xaxis_title='Date', yaxis_title='Price')\n",
    "    fig.show()\n",
    "\n",
    "    fig2 = go.Figure()\n",
    "    fig2.add_trace(go.Scatter(x=revenue_data['Date'], y=revenue_data['Revenue'], name=\"Revenue\"))\n",
    "    fig2.update_layout(title=f\"{company} Revenue\", xaxis_title='Date', yaxis_title='Revenue (USD)')\n",
    "    fig2.show()\n"
   ]
  },
  {
   "cell_type": "code",
   "execution_count": null,
   "id": "9e16854f-8217-4230-aabe-7c68ac832749",
   "metadata": {},
   "outputs": [],
   "source": [
    "make_graph(tesla_data, tesla_revenue, 'TSLA', 'Tesla')\n",
    "make_graph(gme_data, gme_revenue, 'GME', 'GameStop')\n"
   ]
  },
  {
   "cell_type": "markdown",
   "id": "a72ec2f1-a54a-4683-bc84-9905b82346b5",
   "metadata": {},
   "source": [
    "## Conclusion\n",
    "\n",
    "- Tesla stock shows a strong upward trend with growing revenue.\n",
    "- GameStop stock is volatile and does not strongly correlate with revenue.\n"
   ]
  },
  {
   "cell_type": "code",
   "execution_count": null,
   "id": "8bb970f9-31a8-4f4b-aa41-2b9a92793e61",
   "metadata": {},
   "outputs": [],
   "source": [
    "# Import necessary libraries\n",
    "import yfinance as yf\n",
    "import pandas as pd\n",
    "\n",
    "# Create a ticker object for Tesla\n",
    "tesla = yf.Ticker(\"TSLA\")\n",
    "\n",
    "# Get historical stock data\n",
    "tesla_data = tesla.history(period=\"max\")\n",
    "\n",
    "# Reset index to have Date as a column\n",
    "tesla_data.reset_index(inplace=True)\n",
    "\n",
    "# Display the first five rows\n",
    "tesla_data.head()\n"
   ]
  },
  {
   "cell_type": "code",
   "execution_count": null,
   "id": "308ecbf6-8c06-4075-a6a9-80cbfd186fc4",
   "metadata": {},
   "outputs": [],
   "source": [
    "import requests\n",
    "from bs4 import BeautifulSoup\n",
    "\n",
    "# Send request to the page\n",
    "url = \"https://www.macrotrends.net/stocks/charts/TSLA/tesla/revenue\"\n",
    "html_data = requests.get(url).text\n",
    "\n",
    "# Parse the HTML using BeautifulSoup\n",
    "soup = BeautifulSoup(html_data, \"html.parser\")\n",
    "\n",
    "# Find all tables\n",
    "tables = soup.find_all(\"table\")\n",
    "\n",
    "# Extract Tesla revenue table\n",
    "tesla_revenue = pd.DataFrame(columns=[\"Date\", \"Revenue\"])\n",
    "\n",
    "for row in soup.find_all(\"table\")[1].tbody.find_all(\"tr\"):\n",
    "    cols = row.find_all(\"td\")\n",
    "    if cols:\n",
    "        date = cols[0].text.strip()\n",
    "        revenue = cols[1].\n"
   ]
  },
  {
   "cell_type": "code",
   "execution_count": null,
   "id": "4229df2a-b6b2-4289-860f-125afc137548",
   "metadata": {},
   "outputs": [],
   "source": [
    "# Create a ticker object for GameStop\n",
    "gme = yf.Ticker(\"GME\")\n",
    "\n",
    "# Get historical stock data\n",
    "gme_data = gme.history(period=\"max\")\n",
    "\n",
    "# Reset index\n",
    "gme_data.reset_index(inplace=True)\n",
    "\n",
    "# Display first 5 rows\n",
    "gme_data.head()\n"
   ]
  },
  {
   "cell_type": "code",
   "execution_count": null,
   "id": "e4c47cf1-4b05-43a5-87c0-f35ff6d1939b",
   "metadata": {},
   "outputs": [],
   "source": [
    "# Request GameStop revenue page\n",
    "url = \"https://www.macrotrends.net/stocks/charts/GME/gamestop/revenue\"\n",
    "html_data = requests.get(url).text\n",
    "\n",
    "# Parse HTML\n",
    "soup = BeautifulSoup(html_data, \"html.parser\")\n",
    "\n",
    "# Create GameStop revenue dataframe\n",
    "gme_revenue = pd.DataFrame(columns=[\"Date\", \"Revenue\"])\n",
    "\n",
    "for row in soup.find_all(\"table\")[1].tbody.find_all(\"tr\"):\n",
    "    cols = row.find_all(\"td\")\n",
    "    if cols:\n",
    "        date = cols[0].text.strip()\n",
    "        revenue = cols[1].text.strip().replace(\"$\", \"\").replace(\",\", \"\")\n",
    "        if revenue != \"\":\n",
    "            gme_revenue = gme_revenue.append({\"Date\": date, \"Revenue\": revenue}, ignore_index=True)\n",
    "\n",
    "# Display the last 5 rows\n",
    "gme_revenue.tail()\n"
   ]
  },
  {
   "cell_type": "code",
   "execution_count": null,
   "id": "4953c16c-f00c-4eac-929f-8bd236bbdb07",
   "metadata": {},
   "outputs": [],
   "source": [
    "import plotly.graph_objs as go\n",
    "from plotly.subplots import make_subplots\n",
    "\n",
    "# Create dashboard for Tesla\n",
    "fig = make_subplots(rows=2, cols=1, shared_xaxes=True, subplot_titles=(\"Tesla Stock Price\", \"Tesla Revenue\"), vertical_spacing=0.3)\n",
    "\n",
    "# Stock Price plot\n",
    "fig.add_trace(go.Scatter(x=tesla_data['Date'], y=tesla_data['Close'], name=\"Tesla Stock\"), row=1, col=1)\n",
    "\n",
    "# Revenue plot\n",
    "fig.add_trace(go.Scatter(x=tesla_revenue['Date'], y=tesla_revenue['Revenue'], name=\"Tesla Revenue\"), row=2, col=1)\n",
    "\n",
    "fig.update_layout(height=600, title_text=\"Tesla Stock Price and Revenue\")\n",
    "fig.show()\n"
   ]
  },
  {
   "cell_type": "code",
   "execution_count": null,
   "id": "f8587c79-9fe7-411a-b58c-e47da2300a40",
   "metadata": {},
   "outputs": [],
   "source": [
    "# Create dashboard for GameStop\n",
    "fig = make_subplots(rows=2, cols=1, shared_xaxes=True, subplot_titles=(\"GameStop Stock Price\", \"GameStop Revenue\"), vertical_spacing=0.3)\n",
    "\n",
    "# Stock Price plot\n",
    "fig.add_trace(go.Scatter(x=gme_data['Date'], y=gme_data['Close'], name=\"GameStop Stock\"), row=1, col=1)\n",
    "\n",
    "# Revenue plot\n",
    "fig.add_trace(go.Scatter(x=gme_revenue['Date'], y=gme_revenue['Revenue'], name=\"GameStop Revenue\"), row=2, col=1)\n",
    "\n",
    "fig.update_layout(height=600, title_text=\"GameStop Stock Price and Revenue\")\n",
    "fig.show()\n"
   ]
  },
  {
   "cell_type": "code",
   "execution_count": null,
   "id": "1051b673-75c7-45ee-9c50-e4214d95af81",
   "metadata": {},
   "outputs": [],
   "source": []
  }
 ],
 "metadata": {
  "kernelspec": {
   "display_name": "Python 3 (ipykernel)",
   "language": "python",
   "name": "python3"
  },
  "language_info": {
   "codemirror_mode": {
    "name": "ipython",
    "version": 3
   },
   "file_extension": ".py",
   "mimetype": "text/x-python",
   "name": "python",
   "nbconvert_exporter": "python",
   "pygments_lexer": "ipython3",
   "version": "3.12.7"
  }
 },
 "nbformat": 4,
 "nbformat_minor": 5
}
